{
 "cells": [
  {
   "cell_type": "markdown",
   "metadata": {},
   "source": [
    "# **Lung Perfusion Analysis Pipeline**\n",
    "This notebook is designed for the processing and quantitative analysis of planar lung images, focusing on pulmonary perfusion studies. It employs a combination of image processing techniques and statistical analysis to segment lung regions, divide them into sectors (upper, middle, and lower), and compute key metrics such as area, mean intensity, and cumulative intensity (Kct). The methodology, based on binarization, morphological operations, and connected component analysis, aims to assess the distribution of perfusion and support clinical applications. This approach can aid in diagnosing and monitoring conditions like pulmonary embolism or COPD, with future possibilities of extending the methodology to three-dimensional imaging and advanced segmentation algorithms."
   ]
  },
  {
   "cell_type": "markdown",
   "metadata": {},
   "source": [
    "## Setup of the environment"
   ]
  },
  {
   "cell_type": "code",
   "execution_count": null,
   "metadata": {},
   "outputs": [],
   "source": [
    "import cv2\n",
    "import numpy as np\n",
    "import matplotlib.pyplot as plt\n",
    "import seaborn as sns"
   ]
  },
  {
   "cell_type": "markdown",
   "metadata": {},
   "source": [
    "## Segmentation through binarization\n",
    "`load_and_binarize_image()` handles the segmentation by binarization. The image is loaded in grayscale and binarized to separate the lung regions."
   ]
  },
  {
   "cell_type": "code",
   "execution_count": 1,
   "metadata": {},
   "outputs": [],
   "source": [
    "def load_and_binarize_image(filepath):\n",
    "    \"\"\"\n",
    "    Load the image, crop unwanted borders, and apply binarization.\n",
    "    \"\"\"\n",
    "    image = cv2.imread(filepath, cv2.IMREAD_GRAYSCALE)\n",
    "    if image is None:\n",
    "        raise ValueError(\"Image not found or could not be loaded.\")\n",
    "\n",
    "    _, binary_image = cv2.threshold(image, 66, 255, cv2.THRESH_BINARY)\n",
    "\n",
    "    # Display results\n",
    "    plt.imshow(binary_image, cmap=\"gray\")\n",
    "    plt.title(\"Binary Image\")\n",
    "    plt.axis(\"off\")\n",
    "    plt.show()\n",
    "\n",
    "    return binary_image"
   ]
  },
  {
   "cell_type": "markdown",
   "metadata": {},
   "source": [
    "## Application of Morphological Operators\n",
    "`apply_morphological_operations()` applies morphological operations to the binary image, using a closing operation to reduce noise and enhance lung segmentation."
   ]
  },
  {
   "cell_type": "code",
   "execution_count": 2,
   "metadata": {},
   "outputs": [],
   "source": [
    "def apply_morphological_operations(binary_image):\n",
    "    \"\"\"\n",
    "    Use morphological operations to clean the binary image.\n",
    "    \"\"\"\n",
    "    kernel_open1 = cv2.getStructuringElement(cv2.MORPH_ELLIPSE, (7, 11))\n",
    "    kernel_close = cv2.getStructuringElement(cv2.MORPH_ELLIPSE, (4, 5))\n",
    "\n",
    "    # Step 1: Opening to remove noise\n",
    "    opened_image = cv2.morphologyEx(binary_image, cv2.MORPH_OPEN, kernel_open1)\n",
    "\n",
    "    # Step 2: Closing to fill holes\n",
    "    processed_image = cv2.morphologyEx(opened_image, cv2.MORPH_CLOSE, kernel_close)\n",
    "\n",
    "    # Display results\n",
    "    plt.imshow(processed_image, cmap=\"gray\")\n",
    "    plt.title(\"Morphological Operations: Open and Close\")\n",
    "    plt.axis(\"off\")\n",
    "    plt.show()\n",
    "\n",
    "    return processed_image"
   ]
  },
  {
   "cell_type": "markdown",
   "metadata": {},
   "source": [
    " ## Extraction of Connected Components\n",
    " `extract_connected_lung_components()` extracts connected components in the processed binary image. This function assumes that the two largest components correspond to the lungs."
   ]
  },
  {
   "cell_type": "code",
   "execution_count": 3,
   "metadata": {},
   "outputs": [],
   "source": [
    "def extract_connected_lung_components(processed_image):\n",
    "    \"\"\"\n",
    "    Extract the connected components, assuming the largest two are the lungs.\n",
    "    \"\"\"\n",
    "\n",
    "    # Connected components\n",
    "    num_labels, labels, stats, centroids = cv2.connectedComponentsWithStats(processed_image, connectivity=8)\n",
    "\n",
    "    # Sort components by area\n",
    "    sorted_indices = np.argsort(stats[:, cv2.CC_STAT_AREA])[::-1][1:3]  # Skip background\n",
    "\n",
    "    # Lungs extraction as masks\n",
    "    lung_masks = [(labels == idx).astype(np.uint8) * 255 for idx in sorted_indices]\n",
    "\n",
    "    # Create a colorized label map for visualization\n",
    "    mako_colors = sns.color_palette(\"mako\", num_labels)\n",
    "    mako_colors_normalized = [(int(c[0] * 255), int(c[1] * 255), int(c[2] * 255)) for c in mako_colors]\n",
    "    label_colored = np.zeros((*processed_image.shape, 3), dtype=np.uint8)\n",
    "    for label_id in range(1, num_labels):  # Skip background (label 0)\n",
    "        label_mask = (labels == label_id)\n",
    "        color = mako_colors_normalized[label_id]\n",
    "        label_colored[label_mask] = color\n",
    "    plt.imshow(label_colored)\n",
    "    plt.title(\"Connected Components\")\n",
    "    plt.axis(\"off\")\n",
    "    plt.show()\n",
    "\n",
    "    return lung_masks"
   ]
  },
  {
   "cell_type": "markdown",
   "metadata": {},
   "source": [
    "## Definition of Sectors and Creation of Masks\n",
    " `define_adaptive_lung_sectors()` divides each lung mask into three sectors (upper, middle, and lower) and creates separate masks for each sector."
   ]
  },
  {
   "cell_type": "code",
   "execution_count": 4,
   "metadata": {},
   "outputs": [],
   "source": [
    "def define_adaptive_lung_sectors(lung_mask):\n",
    "    \"\"\"\n",
    "    Divide the lung mask into upper, middle, and lower sectors based on the bounding box of the lung region.\n",
    "    Visualize the sectors on the lung mask.\n",
    "    \"\"\"\n",
    "    # Find the bounding box of the lung region\n",
    "    y_coords, x_coords = np.where(lung_mask == 255)\n",
    "    if y_coords.size == 0 or x_coords.size == 0:\n",
    "        return [np.zeros_like(lung_mask) for _ in range(3)]  # Return empty sectors if no lung is found\n",
    "\n",
    "    # Define the bounding box\n",
    "    y_min, y_max = y_coords.min(), y_coords.max()\n",
    "\n",
    "    # Define sector height within the bounding box\n",
    "    lung_height = y_max - y_min + 1\n",
    "    sector_height = lung_height // 3\n",
    "\n",
    "    # Create masks for each sector within the bounding box\n",
    "    sectors = []\n",
    "    for i in range(3):\n",
    "        mask = np.zeros_like(lung_mask)\n",
    "        start_y = y_min + i * sector_height\n",
    "        end_y = y_min + (i + 1) * sector_height if i < 2 else y_max + 1\n",
    "        mask[start_y:end_y, :] = lung_mask[start_y:end_y, :]\n",
    "        sectors.append(mask)\n",
    "\n",
    "    \"\"\"# Visualization of sectors\n",
    "    combined_sectors = np.zeros_like(lung_mask, dtype=np.uint8)\n",
    "    colors = [50, 150, 255]  # Grayscale values for visualization\n",
    "    for i, sector in enumerate(sectors):\n",
    "        combined_sectors[sector > 0] = colors[i]\n",
    "    plt.imshow(combined_sectors, cmap=\"gray\")\n",
    "    plt.title(\"Lung Sectors (Upper, Middle, Lower)\")\n",
    "    plt.axis(\"off\")\n",
    "    plt.show()\"\"\"\n",
    "\n",
    "    return sectors"
   ]
  },
  {
   "cell_type": "markdown",
   "metadata": {},
   "source": [
    "## Extraction of Characteristics\n",
    "`compute_sector_statistics()` extracts characteristics (area, mean intensity, standard deviation) for each sector. Additionally, it calculates the Kct (sum of pixel values for perfusion intensity) and the percentage of each sector's contribution to total lung perfusion."
   ]
  },
  {
   "cell_type": "code",
   "execution_count": 5,
   "metadata": {},
   "outputs": [],
   "source": [
    "def compute_sector_statistics(sectors, original_image, lung_label):\n",
    "    \"\"\"\n",
    "    For each sector, calculate area, mean intensity, and standard deviation, and derive Kct values.\n",
    "    Visualize the lung with sectors and labels.\n",
    "    \"\"\"\n",
    "    mako_colors = sns.color_palette(\"mako\", len(sectors))\n",
    "    mako_colors_rgb = [(int(c[0]*255), int(c[1]*255), int(c[2]*255)) for c in mako_colors]  # Convert to RGB\n",
    "\n",
    "    total_intensity = 0\n",
    "    sector_data = []\n",
    "    combined_sectors = np.zeros((*original_image.shape, 3), dtype=np.uint8)\n",
    "\n",
    "    for i, sector in enumerate(sectors):\n",
    "        masked_pixels = original_image[sector == 255]\n",
    "        area = cv2.countNonZero(sector)\n",
    "        mean_intensity = masked_pixels.mean() if masked_pixels.size > 0 else 0\n",
    "        std_dev_intensity = masked_pixels.std() if masked_pixels.size > 0 else 0\n",
    "        total_intensity += masked_pixels.sum()  # Sum of pixel values (Kct)\n",
    "\n",
    "        # Add sector statistics\n",
    "        sector_data.append({\n",
    "            'Sector': ['Upper', 'Middle', 'Lower'][i],\n",
    "            'Area': area,\n",
    "            'Mean Intensity': mean_intensity,\n",
    "            'Standard Deviation': std_dev_intensity,\n",
    "            'Kct': masked_pixels.sum()\n",
    "        })\n",
    "\n",
    "        # Combine sectors for visualization\n",
    "        color = mako_colors_rgb[i]\n",
    "        combined_sectors[sector > 0] = color\n",
    "\n",
    "    # Calculate percentage contributions\n",
    "    for data in sector_data:\n",
    "        data['Percentage'] = (data['Kct'] / total_intensity) * 100 if total_intensity > 0 else 0\n",
    "\n",
    "    # Plot the lung with sectors\n",
    "    plt.figure(figsize=(6, 6))\n",
    "    plt.imshow(combined_sectors)\n",
    "    plt.title(f\"{lung_label} with Sectors\")\n",
    "    plt.axis(\"off\")\n",
    "    plt.show()\n",
    "\n",
    "    return sector_data, total_intensity"
   ]
  },
  {
   "cell_type": "markdown",
   "metadata": {},
   "source": [
    "## Wrapper function to process the entire lung image\n",
    "The results include:<br>\n",
    "- Total Kct: The total perfusion intensity for each lung.<br>\n",
    "- Sector Statistics: For each sector (upper, middle, lower), the area, mean intensity, standard deviation, Kct value, and percentage contribution to total perfusion."
   ]
  },
  {
   "cell_type": "code",
   "execution_count": 6,
   "metadata": {},
   "outputs": [],
   "source": [
    "def process_lung_image(filepath, projection_type):\n",
    "    \"\"\"\n",
    "    Process the lung image and assign labels dynamically based on projection type.\n",
    "    \"\"\"\n",
    "    # Step 1: Load and binarize image\n",
    "    binary_image = load_and_binarize_image(filepath)\n",
    "\n",
    "    # Step 2: Apply morphological operations\n",
    "    processed_image = apply_morphological_operations(binary_image)\n",
    "\n",
    "    # Step 3: Extract connected components (lungs)\n",
    "    lung_masks = extract_connected_lung_components(processed_image)\n",
    "\n",
    "    # Load original grayscale image for intensity calculations\n",
    "    grayscale_image = cv2.imread(filepath, cv2.IMREAD_GRAYSCALE)\n",
    "\n",
    "    # Dynamic lung labels based on projection type\n",
    "    if projection_type == \"anterior\":\n",
    "        lung_labels = [\"Left Lung\", \"Right Lung\"]\n",
    "    elif projection_type == \"posterior\":\n",
    "        lung_labels = [\"Left Lung\", \"Right Lung\"]\n",
    "    else:\n",
    "        raise ValueError(\"Invalid projection type. Use 'anterior' or 'posterior'.\")\n",
    "\n",
    "    # Process each lung\n",
    "    lung_results = []\n",
    "    for lung_mask, lung_label in zip(lung_masks, lung_labels):\n",
    "        # Step 4: Define sectors\n",
    "        sectors = define_adaptive_lung_sectors(lung_mask)\n",
    "\n",
    "        # Step 5: Extract characteristics and plot\n",
    "        stats, total_kct = compute_sector_statistics(sectors, grayscale_image, lung_label)\n",
    "        lung_results.append({\n",
    "            'Lung Label': lung_label,\n",
    "            'Sector Statistics': stats,\n",
    "            'Total Kct': total_kct\n",
    "        })\n",
    "\n",
    "    return lung_results"
   ]
  },
  {
   "cell_type": "markdown",
   "metadata": {},
   "source": [
    "## Process both anterior and posterior projections"
   ]
  },
  {
   "cell_type": "code",
   "execution_count": 7,
   "metadata": {},
   "outputs": [
    {
     "name": "stdout",
     "output_type": "stream",
     "text": [
      "Processing Anterior Lung Projection:\n"
     ]
    },
    {
     "ename": "NameError",
     "evalue": "name 'cv2' is not defined",
     "output_type": "error",
     "traceback": [
      "\u001b[0;31m---------------------------------------------------------------------------\u001b[0m",
      "\u001b[0;31mNameError\u001b[0m                                 Traceback (most recent call last)",
      "Cell \u001b[0;32mIn[7], line 5\u001b[0m\n\u001b[1;32m      2\u001b[0m posterior_filepath \u001b[38;5;241m=\u001b[39m \u001b[38;5;124m\"\u001b[39m\u001b[38;5;124mPOST PERF.tif\u001b[39m\u001b[38;5;124m\"\u001b[39m\n\u001b[1;32m      4\u001b[0m \u001b[38;5;28mprint\u001b[39m(\u001b[38;5;124m\"\u001b[39m\u001b[38;5;124mProcessing Anterior Lung Projection:\u001b[39m\u001b[38;5;124m\"\u001b[39m)\n\u001b[0;32m----> 5\u001b[0m anterior_results \u001b[38;5;241m=\u001b[39m \u001b[43mprocess_lung_image\u001b[49m\u001b[43m(\u001b[49m\u001b[43manterior_filepath\u001b[49m\u001b[43m,\u001b[49m\u001b[43m \u001b[49m\u001b[43mprojection_type\u001b[49m\u001b[38;5;241;43m=\u001b[39;49m\u001b[38;5;124;43m\"\u001b[39;49m\u001b[38;5;124;43manterior\u001b[39;49m\u001b[38;5;124;43m\"\u001b[39;49m\u001b[43m)\u001b[49m\n\u001b[1;32m      6\u001b[0m \u001b[38;5;28;01mfor\u001b[39;00m lung \u001b[38;5;129;01min\u001b[39;00m anterior_results:\n\u001b[1;32m      7\u001b[0m     \u001b[38;5;28mprint\u001b[39m(\u001b[38;5;124mf\u001b[39m\u001b[38;5;124m\"\u001b[39m\u001b[38;5;130;01m\\n\u001b[39;00m\u001b[38;5;132;01m{\u001b[39;00mlung[\u001b[38;5;124m'\u001b[39m\u001b[38;5;124mLung Label\u001b[39m\u001b[38;5;124m'\u001b[39m]\u001b[38;5;132;01m}\u001b[39;00m\u001b[38;5;124m - Total Kct: \u001b[39m\u001b[38;5;132;01m{\u001b[39;00mlung[\u001b[38;5;124m'\u001b[39m\u001b[38;5;124mTotal Kct\u001b[39m\u001b[38;5;124m'\u001b[39m]\u001b[38;5;132;01m}\u001b[39;00m\u001b[38;5;124m\"\u001b[39m)\n",
      "Cell \u001b[0;32mIn[6], line 6\u001b[0m, in \u001b[0;36mprocess_lung_image\u001b[0;34m(filepath, projection_type)\u001b[0m\n\u001b[1;32m      2\u001b[0m \u001b[38;5;250m\u001b[39m\u001b[38;5;124;03m\"\"\"\u001b[39;00m\n\u001b[1;32m      3\u001b[0m \u001b[38;5;124;03mProcess the lung image and assign labels dynamically based on projection type.\u001b[39;00m\n\u001b[1;32m      4\u001b[0m \u001b[38;5;124;03m\"\"\"\u001b[39;00m\n\u001b[1;32m      5\u001b[0m \u001b[38;5;66;03m# Step 1: Load and binarize image\u001b[39;00m\n\u001b[0;32m----> 6\u001b[0m binary_image \u001b[38;5;241m=\u001b[39m \u001b[43mload_and_binarize_image\u001b[49m\u001b[43m(\u001b[49m\u001b[43mfilepath\u001b[49m\u001b[43m)\u001b[49m\n\u001b[1;32m      8\u001b[0m \u001b[38;5;66;03m# Step 2: Apply morphological operations\u001b[39;00m\n\u001b[1;32m      9\u001b[0m processed_image \u001b[38;5;241m=\u001b[39m apply_morphological_operations(binary_image)\n",
      "Cell \u001b[0;32mIn[1], line 5\u001b[0m, in \u001b[0;36mload_and_binarize_image\u001b[0;34m(filepath)\u001b[0m\n\u001b[1;32m      1\u001b[0m \u001b[38;5;28;01mdef\u001b[39;00m \u001b[38;5;21mload_and_binarize_image\u001b[39m(filepath):\n\u001b[1;32m      2\u001b[0m \u001b[38;5;250m    \u001b[39m\u001b[38;5;124;03m\"\"\"\u001b[39;00m\n\u001b[1;32m      3\u001b[0m \u001b[38;5;124;03m    Load the image, crop unwanted borders, and apply binarization.\u001b[39;00m\n\u001b[1;32m      4\u001b[0m \u001b[38;5;124;03m    \"\"\"\u001b[39;00m\n\u001b[0;32m----> 5\u001b[0m     image \u001b[38;5;241m=\u001b[39m \u001b[43mcv2\u001b[49m\u001b[38;5;241m.\u001b[39mimread(filepath, cv2\u001b[38;5;241m.\u001b[39mIMREAD_GRAYSCALE)\n\u001b[1;32m      6\u001b[0m     \u001b[38;5;28;01mif\u001b[39;00m image \u001b[38;5;129;01mis\u001b[39;00m \u001b[38;5;28;01mNone\u001b[39;00m:\n\u001b[1;32m      7\u001b[0m         \u001b[38;5;28;01mraise\u001b[39;00m \u001b[38;5;167;01mValueError\u001b[39;00m(\u001b[38;5;124m\"\u001b[39m\u001b[38;5;124mImage not found or could not be loaded.\u001b[39m\u001b[38;5;124m\"\u001b[39m)\n",
      "\u001b[0;31mNameError\u001b[0m: name 'cv2' is not defined"
     ]
    }
   ],
   "source": [
    "anterior_filepath = \"ANT PERF.tif\"\n",
    "posterior_filepath = \"POST PERF.tif\"\n",
    "\n",
    "print(\"Processing Anterior Lung Projection:\")\n",
    "anterior_results = process_lung_image(anterior_filepath, projection_type=\"anterior\")\n",
    "for lung in anterior_results:\n",
    "    print(f\"\\n{lung['Lung Label']} - Total Kct: {lung['Total Kct']}\")\n",
    "    print(\"-\" * 40)\n",
    "    for sector_stat in lung['Sector Statistics']:\n",
    "        print(f\"Sector: {sector_stat['Sector']}\")\n",
    "        print(f\"  - Area: {sector_stat['Area']} pixels\")\n",
    "        print(f\"  - Mean Intensity: {sector_stat['Mean Intensity']:.2f}\")\n",
    "        print(f\"  - Standard Deviation: {sector_stat['Standard Deviation']:.2f}\")\n",
    "        print(f\"  - Kct (Intensity Sum): {sector_stat['Kct']}\")\n",
    "        print(f\"  - Percentage of Total Kct: {sector_stat['Percentage']:.2f}%\")\n",
    "        print(\"-\" * 40)\n",
    "\n",
    "print(\"\\nProcessing Posterior Lung Projection:\")\n",
    "posterior_results = process_lung_image(posterior_filepath, projection_type=\"posterior\")\n",
    "for lung in posterior_results:\n",
    "    print(f\"\\n{lung['Lung Label']} - Total Kct: {lung['Total Kct']}\")\n",
    "    print(\"-\" * 40)\n",
    "    for sector_stat in lung['Sector Statistics']:\n",
    "        print(f\"Sector: {sector_stat['Sector']}\")\n",
    "        print(f\"  - Area: {sector_stat['Area']} pixels\")\n",
    "        print(f\"  - Mean Intensity: {sector_stat['Mean Intensity']:.2f}\")\n",
    "        print(f\"  - Standard Deviation: {sector_stat['Standard Deviation']:.2f}\")\n",
    "        print(f\"  - Kct (Intensity Sum): {sector_stat['Kct']}\")\n",
    "        print(f\"  - Percentage of Total Kct: {sector_stat['Percentage']:.2f}%\")\n",
    "        print(\"-\" * 40)"
   ]
  }
 ],
 "metadata": {
  "kernelspec": {
   "display_name": "Python 3",
   "language": "python",
   "name": "python3"
  },
  "language_info": {
   "codemirror_mode": {
    "name": "ipython",
    "version": 3
   },
   "file_extension": ".py",
   "mimetype": "text/x-python",
   "name": "python",
   "nbconvert_exporter": "python",
   "pygments_lexer": "ipython3",
   "version": "3.12.1"
  }
 },
 "nbformat": 4,
 "nbformat_minor": 2
}
